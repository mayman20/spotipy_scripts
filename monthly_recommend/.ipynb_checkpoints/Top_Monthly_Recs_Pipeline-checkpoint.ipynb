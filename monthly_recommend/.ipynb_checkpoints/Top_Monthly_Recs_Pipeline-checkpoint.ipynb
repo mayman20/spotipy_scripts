{
  "cells": [
    {
      "cell_type": "markdown",
      "metadata": {},
      "source": [
        "# 🎧 Top Monthly Recs — End‑to‑End Pipeline (Spotify + Local Recommender)\n",
        "\n",
        "This notebook runs the **entire flow**:\n",
        "\n",
        "1. **Export** your top 50 songs for the past month → `top_monthly_songs.csv` (via your `csv_out.py`)\n",
        "2. **Preprocess** that CSV to build a local recommender model → `df_cleaned.pkl`, `cosine_sim.pkl` (via your `preprocess.py`)\n",
        "3. **Create/Update** your recommendations playlist using the local model, skipping anything already saved in your Library (via your `top_monthly_recommendation.py`)\n",
        "\n",
        "### Prereqs\n",
        "- Files in the **same folder** as this notebook:\n",
        "  - `csv_out.py` (exports `top_monthly_songs.csv`)\n",
        "  - `preprocess.py` (reads `top_monthly_songs.csv`, writes `df_cleaned.pkl`, `cosine_sim.pkl`)\n",
        "  - `top_monthly_recommendation.py` (uses the local model; **must include the saved‑tracks filtering** we added)\n",
        "- `.env` file with your Spotify creds:\n",
        "  - `SPOTIPY_CLIENT_ID`\n",
        "  - `SPOTIPY_CLIENT_SECRET`\n",
        "  - `SPOTIPY_REDIRECT_URI`\n",
        "\n",
        "> If your export script has a different filename, update the **Settings** cell below."
      ]
    },
    {
      "cell_type": "code",
      "execution_count": 7,
      "metadata": {},
      "outputs": [
        {
          "name": "stdout",
          "output_type": "stream",
          "text": [
            "📂 Working directory: /Users/joemay/Documents/spotipy_scripts/monthly recommend\n",
            "❌ Required file not found: top_monthly_recommendation.py\n",
            "   Make sure this notebook sits in the same folder as your scripts.\n"
          ]
        },
        {
          "ename": "SystemExit",
          "evalue": "1",
          "output_type": "error",
          "traceback": [
            "An exception has occurred, use %tb to see the full traceback.\n",
            "\u001b[31mSystemExit\u001b[39m\u001b[31m:\u001b[39m 1\n"
          ]
        }
      ],
      "source": [
        "# --- Settings ---\n",
        "CSV_EXPORT_SCRIPT = \"csv_out.py\"                 # your script that writes top_monthly_songs.csv\n",
        "PREPROCESS_SCRIPT = \"preprocess.py\"              # builds df_cleaned.pkl & cosine_sim.pkl\n",
        "RECOMMENDER_SCRIPT = \"top_monthly_recommendation.py\"  # creates/updates the playlist\n",
        "TOP_CSV = \"top_monthly_songs.csv\"                # output CSV name expected by preprocess.py\n",
        "\n",
        "# Expected model outputs from preprocess.py\n",
        "DF_PATH = \"df_cleaned.pkl\"\n",
        "SIM_PATH = \"cosine_sim.pkl\"\n",
        "\n",
        "import os, sys, pathlib, subprocess, shutil\n",
        "\n",
        "def abort(msg: str):\n",
        "    print(msg)\n",
        "    raise SystemExit(1)\n",
        "\n",
        "print(\"📂 Working directory:\", os.getcwd())\n",
        "for f in [CSV_EXPORT_SCRIPT, PREPROCESS_SCRIPT, RECOMMENDER_SCRIPT]:\n",
        "    if not os.path.exists(f):\n",
        "        abort(f\"❌ Required file not found: {f}\\n   Make sure this notebook sits in the same folder as your scripts.\")\n",
        "print(\"✅ Found required scripts.\")"
      ]
    },
    {
      "cell_type": "code",
      "execution_count": null,
      "metadata": {},
      "outputs": [],
      "source": [
        "import sys, subprocess\n",
        "\n",
        "def pip_install(pkgs):\n",
        "    print(\"📦 Installing:\", \" \".join(pkgs))\n",
        "    subprocess.check_call([sys.executable, \"-m\", \"pip\", \"install\", *pkgs])\n",
        "\n",
        "# Safe to re-run; pip will skip if already satisfied\n",
        "pip_install([\"spotipy\", \"python-dotenv\", \"pandas\", \"numpy\", \"scikit-learn\", \"joblib\", \"nltk\"])\n",
        "\n",
        "print(\"✅ Dependencies installed.\")"
      ]
    },
    {
      "cell_type": "code",
      "execution_count": null,
      "metadata": {},
      "outputs": [],
      "source": [
        "from dotenv import load_dotenv\n",
        "import os\n",
        "\n",
        "if not os.path.exists(\".env\"):\n",
        "    print(\"⚠️  .env not found in current directory. You'll be prompted to login via browser, but having .env is recommended.\")\n",
        "load_dotenv()\n",
        "\n",
        "required_env = [\"SPOTIPY_CLIENT_ID\", \"SPOTIPY_CLIENT_SECRET\", \"SPOTIPY_REDIRECT_URI\"]\n",
        "missing = [k for k in required_env if not os.getenv(k)]\n",
        "if missing:\n",
        "    print(\"⚠️  Missing in .env:\", \", \".join(missing))\n",
        "    print(\"   You can still proceed if your scripts handle auth flow, but it's better to add them to .env.\")\n",
        "else:\n",
        "    print(\"✅ .env looks good.\")"
      ]
    },
    {
      "cell_type": "markdown",
      "metadata": {},
      "source": [
        "## Step 1 — Export top 50 monthly tracks to CSV"
      ]
    },
    {
      "cell_type": "code",
      "execution_count": null,
      "metadata": {},
      "outputs": [],
      "source": [
        "import subprocess, sys, os, time\n",
        "\n",
        "print(\"▶️ Running:\", CSV_EXPORT_SCRIPT)\n",
        "proc = subprocess.run([sys.executable, CSV_EXPORT_SCRIPT], capture_output=True, text=True)\n",
        "print(proc.stdout)\n",
        "if proc.returncode != 0:\n",
        "    print(proc.stderr)\n",
        "    raise RuntimeError(\"CSV export failed. See error above.\")\n",
        "\n",
        "if not os.path.exists(TOP_CSV):\n",
        "    raise FileNotFoundError(f\"Expected CSV not found: {TOP_CSV}\")\n",
        "print(\"✅ CSV created:\", TOP_CSV)"
      ]
    },
    {
      "cell_type": "code",
      "execution_count": null,
      "metadata": {},
      "outputs": [],
      "source": [
        "import pandas as pd\n",
        "\n",
        "print(\"🔎 Preview of\", TOP_CSV)\n",
        "df_top = pd.read_csv(TOP_CSV)\n",
        "display(df_top.head(10))\n",
        "print(\"Rows:\", len(df_top))"
      ]
    },
    {
      "cell_type": "markdown",
      "metadata": {},
      "source": [
        "## Step 2 — Build local recommender (TF‑IDF + Cosine)"
      ]
    },
    {
      "cell_type": "code",
      "execution_count": null,
      "metadata": {},
      "outputs": [],
      "source": [
        "import subprocess, sys, os\n",
        "\n",
        "# Clean old artifacts to avoid confusion\n",
        "for f in [DF_PATH, SIM_PATH]:\n",
        "    if os.path.exists(f):\n",
        "        os.remove(f)\n",
        "\n",
        "print(\"▶️ Running:\", PREPROCESS_SCRIPT)\n",
        "proc = subprocess.run([sys.executable, PREPROCESS_SCRIPT], capture_output=True, text=True)\n",
        "print(proc.stdout)\n",
        "if proc.returncode != 0:\n",
        "    print(proc.stderr)\n",
        "    raise RuntimeError(\"Preprocess failed. See error above.\")\n",
        "\n",
        "missing = [p for p in [DF_PATH, SIM_PATH] if not os.path.exists(p)]\n",
        "if missing:\n",
        "    raise FileNotFoundError(\"Missing expected artifact(s): \" + \", \".join(missing))\n",
        "\n",
        "print(\"✅ Recommender artifacts created:\", DF_PATH, SIM_PATH)"
      ]
    },
    {
      "cell_type": "markdown",
      "metadata": {},
      "source": [
        "## Step 3 — Create/Update playlist with **new** (not already saved) recommendations"
      ]
    },
    {
      "cell_type": "code",
      "execution_count": null,
      "metadata": {},
      "outputs": [],
      "source": [
        "import subprocess, sys\n",
        "\n",
        "print(\"▶️ Running:\", RECOMMENDER_SCRIPT)\n",
        "proc = subprocess.run([sys.executable, RECOMMENDER_SCRIPT], capture_output=True, text=True)\n",
        "print(proc.stdout)\n",
        "if proc.returncode != 0:\n",
        "    print(proc.stderr)\n",
        "    raise RuntimeError(\"Recommendation script failed. See error above.\")\n",
        "\n",
        "print(\"✅ Done. Check Spotify for your updated playlist!\")"
      ]
    },
    {
      "cell_type": "markdown",
      "metadata": {},
      "source": [
        "### 🔧 Troubleshooting\n",
        "\n",
        "- **CSV not found**: Make sure `csv_out.py` writes `top_monthly_songs.csv` into the same folder as this notebook.\n",
        "- **Authentication issues**: Ensure `.env` has `SPOTIPY_CLIENT_ID`, `SPOTIPY_CLIENT_SECRET`, `SPOTIPY_REDIRECT_URI`.\n",
        "- **Missing artifacts after preprocess**: Confirm your `preprocess.py` actually writes `df_cleaned.pkl` and `cosine_sim.pkl` (and that it's looking at `top_monthly_songs.csv`).\n",
        "- **Already-saved tracks showing up**: Verify you’re using the updated `top_monthly_recommendation.py` that filters against your Library (Liked Songs) and has `user-library-read` scope."
      ]
    }
  ],
  "metadata": {
    "kernelspec": {
      "display_name": ".conda",
      "language": "python",
      "name": "python3"
    },
    "language_info": {
      "codemirror_mode": {
        "name": "ipython",
        "version": 3
      },
      "file_extension": ".py",
      "mimetype": "text/x-python",
      "name": "python",
      "nbconvert_exporter": "python",
      "pygments_lexer": "ipython3",
      "version": "3.11.13"
    }
  },
  "nbformat": 4,
  "nbformat_minor": 5
}
