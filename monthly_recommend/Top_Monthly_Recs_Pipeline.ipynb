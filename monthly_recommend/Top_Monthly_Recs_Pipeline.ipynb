{
  "cells": [
    {
      "cell_type": "markdown",
      "metadata": {},
      "source": [
        "# 🎧 Top Monthly Recs — End‑to‑End Pipeline (Spotify + Local Recommender)\n",
        "\n",
        "This notebook runs the **entire flow**:\n",
        "\n",
        "1. **Export** your top 50 songs for the past month → `top_monthly_songs.csv` (via your `csv_out.py`)\n",
        "2. **Preprocess** that CSV to build a local recommender model → `df_cleaned.pkl`, `cosine_sim.pkl` (via your `preprocess.py`)\n",
        "3. **Create/Update** your recommendations playlist using the local model, skipping anything already saved in your Library (via your `top_monthly_recommendation.py`)\n",
        "\n",
        "### Prereqs\n",
        "- Files in the **same folder** as this notebook:\n",
        "  - `csv_out.py` (exports `top_monthly_songs.csv`)\n",
        "  - `preprocess.py` (reads `top_monthly_songs.csv`, writes `df_cleaned.pkl`, `cosine_sim.pkl`)\n",
        "  - `top_monthly_recommendation.py` (uses the local model; **must include the saved‑tracks filtering** we added)\n",
        "- `.env` file with your Spotify creds:\n",
        "  - `SPOTIPY_CLIENT_ID`\n",
        "  - `SPOTIPY_CLIENT_SECRET`\n",
        "  - `SPOTIPY_REDIRECT_URI`\n",
        "\n",
        "> If your export script has a different filename, update the **Settings** cell below."
      ]
    },
    {
      "cell_type": "code",
      "execution_count": 8,
      "metadata": {},
      "outputs": [
        {
          "name": "stdout",
          "output_type": "stream",
          "text": [
            "📂 Working directory: /Users/joemay/Documents/spotipy_scripts/monthly_recommend\n",
            "✅ Found required scripts.\n"
          ]
        }
      ],
      "source": [
        "# --- Settings ---\n",
        "CSV_EXPORT_SCRIPT = \"csv_out.py\"                 # your script that writes top_monthly_songs.csv\n",
        "PREPROCESS_SCRIPT = \"preprocess.py\"              # builds df_cleaned.pkl & cosine_sim.pkl\n",
        "RECOMMENDER_SCRIPT = \"top_monthly_recommendation.py\"  # creates/updates the playlist\n",
        "TOP_CSV = \"top_monthly_songs.csv\"                # output CSV name expected by preprocess.py\n",
        "\n",
        "# Expected model outputs from preprocess.py\n",
        "DF_PATH = \"df_cleaned.pkl\"\n",
        "SIM_PATH = \"cosine_sim.pkl\"\n",
        "\n",
        "import os, sys, pathlib, subprocess, shutil\n",
        "\n",
        "def abort(msg: str):\n",
        "    print(msg)\n",
        "    raise SystemExit(1)\n",
        "\n",
        "print(\"📂 Working directory:\", os.getcwd())\n",
        "for f in [CSV_EXPORT_SCRIPT, PREPROCESS_SCRIPT, RECOMMENDER_SCRIPT]:\n",
        "    if not os.path.exists(f):\n",
        "        abort(f\"❌ Required file not found: {f}\\n   Make sure this notebook sits in the same folder as your scripts.\")\n",
        "print(\"✅ Found required scripts.\")"
      ]
    },
    {
      "cell_type": "code",
      "execution_count": 9,
      "metadata": {},
      "outputs": [
        {
          "name": "stdout",
          "output_type": "stream",
          "text": [
            "📦 Installing: spotipy python-dotenv pandas numpy scikit-learn joblib nltk\n",
            "Requirement already satisfied: spotipy in /opt/anaconda3/envs/spotify-recs/lib/python3.11/site-packages (2.25.1)\n",
            "Requirement already satisfied: python-dotenv in /opt/anaconda3/envs/spotify-recs/lib/python3.11/site-packages (1.1.1)\n",
            "Requirement already satisfied: pandas in /opt/anaconda3/envs/spotify-recs/lib/python3.11/site-packages (2.3.1)\n",
            "Requirement already satisfied: numpy in /opt/anaconda3/envs/spotify-recs/lib/python3.11/site-packages (2.3.2)\n",
            "Requirement already satisfied: scikit-learn in /opt/anaconda3/envs/spotify-recs/lib/python3.11/site-packages (1.7.1)\n",
            "Requirement already satisfied: joblib in /opt/anaconda3/envs/spotify-recs/lib/python3.11/site-packages (1.5.1)\n",
            "Requirement already satisfied: nltk in /opt/anaconda3/envs/spotify-recs/lib/python3.11/site-packages (3.9.1)\n",
            "Requirement already satisfied: redis>=3.5.3 in /opt/anaconda3/envs/spotify-recs/lib/python3.11/site-packages (from spotipy) (6.4.0)\n",
            "Requirement already satisfied: requests>=2.25.0 in /opt/anaconda3/envs/spotify-recs/lib/python3.11/site-packages (from spotipy) (2.32.4)\n",
            "Requirement already satisfied: urllib3>=1.26.0 in /opt/anaconda3/envs/spotify-recs/lib/python3.11/site-packages (from spotipy) (2.5.0)\n",
            "Requirement already satisfied: python-dateutil>=2.8.2 in /opt/anaconda3/envs/spotify-recs/lib/python3.11/site-packages (from pandas) (2.9.0.post0)\n",
            "Requirement already satisfied: pytz>=2020.1 in /opt/anaconda3/envs/spotify-recs/lib/python3.11/site-packages (from pandas) (2025.2)\n",
            "Requirement already satisfied: tzdata>=2022.7 in /opt/anaconda3/envs/spotify-recs/lib/python3.11/site-packages (from pandas) (2025.2)\n",
            "Requirement already satisfied: scipy>=1.8.0 in /opt/anaconda3/envs/spotify-recs/lib/python3.11/site-packages (from scikit-learn) (1.16.0)\n",
            "Requirement already satisfied: threadpoolctl>=3.1.0 in /opt/anaconda3/envs/spotify-recs/lib/python3.11/site-packages (from scikit-learn) (3.6.0)\n",
            "Requirement already satisfied: click in /opt/anaconda3/envs/spotify-recs/lib/python3.11/site-packages (from nltk) (8.2.1)\n",
            "Requirement already satisfied: regex>=2021.8.3 in /opt/anaconda3/envs/spotify-recs/lib/python3.11/site-packages (from nltk) (2025.7.34)\n",
            "Requirement already satisfied: tqdm in /opt/anaconda3/envs/spotify-recs/lib/python3.11/site-packages (from nltk) (4.67.1)\n",
            "Requirement already satisfied: six>=1.5 in /opt/anaconda3/envs/spotify-recs/lib/python3.11/site-packages (from python-dateutil>=2.8.2->pandas) (1.17.0)\n",
            "Requirement already satisfied: charset_normalizer<4,>=2 in /opt/anaconda3/envs/spotify-recs/lib/python3.11/site-packages (from requests>=2.25.0->spotipy) (3.4.2)\n",
            "Requirement already satisfied: idna<4,>=2.5 in /opt/anaconda3/envs/spotify-recs/lib/python3.11/site-packages (from requests>=2.25.0->spotipy) (3.10)\n",
            "Requirement already satisfied: certifi>=2017.4.17 in /opt/anaconda3/envs/spotify-recs/lib/python3.11/site-packages (from requests>=2.25.0->spotipy) (2025.8.3)\n",
            "✅ Dependencies installed.\n"
          ]
        }
      ],
      "source": [
        "import sys, subprocess\n",
        "\n",
        "def pip_install(pkgs):\n",
        "    print(\"📦 Installing:\", \" \".join(pkgs))\n",
        "    subprocess.check_call([sys.executable, \"-m\", \"pip\", \"install\", *pkgs])\n",
        "\n",
        "# Safe to re-run; pip will skip if already satisfied\n",
        "pip_install([\"spotipy\", \"python-dotenv\", \"pandas\", \"numpy\", \"scikit-learn\", \"joblib\", \"nltk\"])\n",
        "\n",
        "print(\"✅ Dependencies installed.\")"
      ]
    },
    {
      "cell_type": "code",
      "execution_count": 10,
      "metadata": {},
      "outputs": [
        {
          "name": "stdout",
          "output_type": "stream",
          "text": [
            "⚠️  .env not found in current directory. You'll be prompted to login via browser, but having .env is recommended.\n",
            "✅ .env looks good.\n"
          ]
        }
      ],
      "source": [
        "from dotenv import load_dotenv\n",
        "import os\n",
        "\n",
        "if not os.path.exists(\".env\"):\n",
        "    print(\"⚠️  .env not found in current directory. You'll be prompted to login via browser, but having .env is recommended.\")\n",
        "load_dotenv()\n",
        "\n",
        "required_env = [\"SPOTIPY_CLIENT_ID\", \"SPOTIPY_CLIENT_SECRET\", \"SPOTIPY_REDIRECT_URI\"]\n",
        "missing = [k for k in required_env if not os.getenv(k)]\n",
        "if missing:\n",
        "    print(\"⚠️  Missing in .env:\", \", \".join(missing))\n",
        "    print(\"   You can still proceed if your scripts handle auth flow, but it's better to add them to .env.\")\n",
        "else:\n",
        "    print(\"✅ .env looks good.\")"
      ]
    },
    {
      "cell_type": "markdown",
      "metadata": {},
      "source": [
        "## Step 1 — Export top 50 monthly tracks to CSV"
      ]
    },
    {
      "cell_type": "code",
      "execution_count": 11,
      "metadata": {},
      "outputs": [
        {
          "name": "stdout",
          "output_type": "stream",
          "text": [
            "▶️ Running: csv_out.py\n",
            "\n",
            "✅ CSV created: top_monthly_songs.csv\n"
          ]
        }
      ],
      "source": [
        "import subprocess, sys, os, time\n",
        "\n",
        "print(\"▶️ Running:\", CSV_EXPORT_SCRIPT)\n",
        "proc = subprocess.run([sys.executable, CSV_EXPORT_SCRIPT], capture_output=True, text=True)\n",
        "print(proc.stdout)\n",
        "if proc.returncode != 0:\n",
        "    print(proc.stderr)\n",
        "    raise RuntimeError(\"CSV export failed. See error above.\")\n",
        "\n",
        "if not os.path.exists(TOP_CSV):\n",
        "    raise FileNotFoundError(f\"Expected CSV not found: {TOP_CSV}\")\n",
        "print(\"✅ CSV created:\", TOP_CSV)"
      ]
    },
    {
      "cell_type": "code",
      "execution_count": 12,
      "metadata": {},
      "outputs": [
        {
          "name": "stdout",
          "output_type": "stream",
          "text": [
            "🔎 Preview of top_monthly_songs.csv\n"
          ]
        },
        {
          "data": {
            "text/html": [
              "<div>\n",
              "<style scoped>\n",
              "    .dataframe tbody tr th:only-of-type {\n",
              "        vertical-align: middle;\n",
              "    }\n",
              "\n",
              "    .dataframe tbody tr th {\n",
              "        vertical-align: top;\n",
              "    }\n",
              "\n",
              "    .dataframe thead th {\n",
              "        text-align: right;\n",
              "    }\n",
              "</style>\n",
              "<table border=\"1\" class=\"dataframe\">\n",
              "  <thead>\n",
              "    <tr style=\"text-align: right;\">\n",
              "      <th></th>\n",
              "      <th>song</th>\n",
              "      <th>artist</th>\n",
              "      <th>spotify_track_id</th>\n",
              "      <th>spotify_artist_id</th>\n",
              "      <th>album</th>\n",
              "      <th>release_date</th>\n",
              "      <th>duration_ms</th>\n",
              "      <th>popularity</th>\n",
              "      <th>explicit</th>\n",
              "    </tr>\n",
              "  </thead>\n",
              "  <tbody>\n",
              "    <tr>\n",
              "      <th>0</th>\n",
              "      <td>I Wouldn't Want to Be Like You</td>\n",
              "      <td>The Alan Parsons Project</td>\n",
              "      <td>4sCCZW0ezEPAexAidFsoVm</td>\n",
              "      <td>2m62cc253Xvd9qYQ8d2X3d</td>\n",
              "      <td>I Robot</td>\n",
              "      <td>1977-07-08</td>\n",
              "      <td>203346</td>\n",
              "      <td>60</td>\n",
              "      <td>False</td>\n",
              "    </tr>\n",
              "    <tr>\n",
              "      <th>1</th>\n",
              "      <td>Unnanounced</td>\n",
              "      <td>3Dcam</td>\n",
              "      <td>5c6ajOkPH23j1AaddxdA7F</td>\n",
              "      <td>0Ug8XunJs2uhubTHdELnG4</td>\n",
              "      <td>Unnanounced</td>\n",
              "      <td>2023-04-20</td>\n",
              "      <td>134711</td>\n",
              "      <td>49</td>\n",
              "      <td>True</td>\n",
              "    </tr>\n",
              "    <tr>\n",
              "      <th>2</th>\n",
              "      <td>Tomorrow</td>\n",
              "      <td>Silverchair</td>\n",
              "      <td>24tO365YW6lcZr1hN4Ukzj</td>\n",
              "      <td>4iudEcmuPlYNdbP3e1bdn1</td>\n",
              "      <td>Frogstomp (Deluxe Edition) [Remastered]</td>\n",
              "      <td>1995-03-27</td>\n",
              "      <td>266280</td>\n",
              "      <td>68</td>\n",
              "      <td>False</td>\n",
              "    </tr>\n",
              "    <tr>\n",
              "      <th>3</th>\n",
              "      <td>When the Lights Go out - 2018 Remaster</td>\n",
              "      <td>Naked Eyes</td>\n",
              "      <td>6fyj12D82DuD0U7tVUMujZ</td>\n",
              "      <td>3C6chBmZ9wzisBhoh8G2nK</td>\n",
              "      <td>Naked Eyes</td>\n",
              "      <td>1983-01-01</td>\n",
              "      <td>182560</td>\n",
              "      <td>46</td>\n",
              "      <td>False</td>\n",
              "    </tr>\n",
              "    <tr>\n",
              "      <th>4</th>\n",
              "      <td>How Long</td>\n",
              "      <td>Ace</td>\n",
              "      <td>6Wgst4P9SOnc6WGLtfTb1z</td>\n",
              "      <td>6QNkSI0c63lCTNXpHDBiqP</td>\n",
              "      <td>Five-A-Side</td>\n",
              "      <td>1974-01-01</td>\n",
              "      <td>204226</td>\n",
              "      <td>66</td>\n",
              "      <td>False</td>\n",
              "    </tr>\n",
              "    <tr>\n",
              "      <th>5</th>\n",
              "      <td>My Dream - 2013 Remaster</td>\n",
              "      <td>Fleetwood Mac</td>\n",
              "      <td>3RdZNq9Rt230mfhjHkFwcx</td>\n",
              "      <td>08GQAI4eElDnROBrJRGE0X</td>\n",
              "      <td>Then Play On (2013 Remaster; Expanded Edition)</td>\n",
              "      <td>1969-09-19</td>\n",
              "      <td>211628</td>\n",
              "      <td>41</td>\n",
              "      <td>False</td>\n",
              "    </tr>\n",
              "    <tr>\n",
              "      <th>6</th>\n",
              "      <td>Eye In The Sky</td>\n",
              "      <td>The Alan Parsons Project</td>\n",
              "      <td>2sIbHjfJ3nbMXNz4w03fWv</td>\n",
              "      <td>2m62cc253Xvd9qYQ8d2X3d</td>\n",
              "      <td>Eye In The Sky</td>\n",
              "      <td>1982-06-01</td>\n",
              "      <td>276280</td>\n",
              "      <td>75</td>\n",
              "      <td>False</td>\n",
              "    </tr>\n",
              "    <tr>\n",
              "      <th>7</th>\n",
              "      <td>Semi on Em</td>\n",
              "      <td>Chief Keef</td>\n",
              "      <td>7z87G3zVo34bqi32Q9PQeK</td>\n",
              "      <td>15iVAtD3s3FsQR4w1v6M0P</td>\n",
              "      <td>Big Gucci Sosa</td>\n",
              "      <td>2015-12-11</td>\n",
              "      <td>170685</td>\n",
              "      <td>60</td>\n",
              "      <td>True</td>\n",
              "    </tr>\n",
              "    <tr>\n",
              "      <th>8</th>\n",
              "      <td>Pepper</td>\n",
              "      <td>Butthole Surfers</td>\n",
              "      <td>1ng36571Iyov4HBxUClySn</td>\n",
              "      <td>62BcWP4fzR8axESibNQEhs</td>\n",
              "      <td>Electriclarryland</td>\n",
              "      <td>1996-01-01</td>\n",
              "      <td>297266</td>\n",
              "      <td>67</td>\n",
              "      <td>False</td>\n",
              "    </tr>\n",
              "    <tr>\n",
              "      <th>9</th>\n",
              "      <td>Dreiton</td>\n",
              "      <td>C418</td>\n",
              "      <td>0lEikZP9JffOW4sufCKtQO</td>\n",
              "      <td>4uFZsG1vXrPcvnZ4iSQyrx</td>\n",
              "      <td>Minecraft - Volume Beta</td>\n",
              "      <td>2013-11-09</td>\n",
              "      <td>497000</td>\n",
              "      <td>58</td>\n",
              "      <td>False</td>\n",
              "    </tr>\n",
              "  </tbody>\n",
              "</table>\n",
              "</div>"
            ],
            "text/plain": [
              "                                     song                    artist  \\\n",
              "0          I Wouldn't Want to Be Like You  The Alan Parsons Project   \n",
              "1                             Unnanounced                     3Dcam   \n",
              "2                                Tomorrow               Silverchair   \n",
              "3  When the Lights Go out - 2018 Remaster                Naked Eyes   \n",
              "4                                How Long                       Ace   \n",
              "5                My Dream - 2013 Remaster             Fleetwood Mac   \n",
              "6                          Eye In The Sky  The Alan Parsons Project   \n",
              "7                              Semi on Em                Chief Keef   \n",
              "8                                  Pepper          Butthole Surfers   \n",
              "9                                 Dreiton                      C418   \n",
              "\n",
              "         spotify_track_id       spotify_artist_id  \\\n",
              "0  4sCCZW0ezEPAexAidFsoVm  2m62cc253Xvd9qYQ8d2X3d   \n",
              "1  5c6ajOkPH23j1AaddxdA7F  0Ug8XunJs2uhubTHdELnG4   \n",
              "2  24tO365YW6lcZr1hN4Ukzj  4iudEcmuPlYNdbP3e1bdn1   \n",
              "3  6fyj12D82DuD0U7tVUMujZ  3C6chBmZ9wzisBhoh8G2nK   \n",
              "4  6Wgst4P9SOnc6WGLtfTb1z  6QNkSI0c63lCTNXpHDBiqP   \n",
              "5  3RdZNq9Rt230mfhjHkFwcx  08GQAI4eElDnROBrJRGE0X   \n",
              "6  2sIbHjfJ3nbMXNz4w03fWv  2m62cc253Xvd9qYQ8d2X3d   \n",
              "7  7z87G3zVo34bqi32Q9PQeK  15iVAtD3s3FsQR4w1v6M0P   \n",
              "8  1ng36571Iyov4HBxUClySn  62BcWP4fzR8axESibNQEhs   \n",
              "9  0lEikZP9JffOW4sufCKtQO  4uFZsG1vXrPcvnZ4iSQyrx   \n",
              "\n",
              "                                            album release_date  duration_ms  \\\n",
              "0                                         I Robot   1977-07-08       203346   \n",
              "1                                     Unnanounced   2023-04-20       134711   \n",
              "2         Frogstomp (Deluxe Edition) [Remastered]   1995-03-27       266280   \n",
              "3                                      Naked Eyes   1983-01-01       182560   \n",
              "4                                     Five-A-Side   1974-01-01       204226   \n",
              "5  Then Play On (2013 Remaster; Expanded Edition)   1969-09-19       211628   \n",
              "6                                  Eye In The Sky   1982-06-01       276280   \n",
              "7                                  Big Gucci Sosa   2015-12-11       170685   \n",
              "8                               Electriclarryland   1996-01-01       297266   \n",
              "9                         Minecraft - Volume Beta   2013-11-09       497000   \n",
              "\n",
              "   popularity  explicit  \n",
              "0          60     False  \n",
              "1          49      True  \n",
              "2          68     False  \n",
              "3          46     False  \n",
              "4          66     False  \n",
              "5          41     False  \n",
              "6          75     False  \n",
              "7          60      True  \n",
              "8          67     False  \n",
              "9          58     False  "
            ]
          },
          "metadata": {},
          "output_type": "display_data"
        },
        {
          "name": "stdout",
          "output_type": "stream",
          "text": [
            "Rows: 50\n"
          ]
        }
      ],
      "source": [
        "import pandas as pd\n",
        "\n",
        "print(\"🔎 Preview of\", TOP_CSV)\n",
        "df_top = pd.read_csv(TOP_CSV)\n",
        "display(df_top.head(10))\n",
        "print(\"Rows:\", len(df_top))"
      ]
    },
    {
      "cell_type": "markdown",
      "metadata": {},
      "source": [
        "## Step 2 — Build local recommender (TF‑IDF + Cosine)"
      ]
    },
    {
      "cell_type": "code",
      "execution_count": 13,
      "metadata": {},
      "outputs": [
        {
          "name": "stdout",
          "output_type": "stream",
          "text": [
            "▶️ Running: preprocess.py\n",
            "\n",
            "✅ Recommender artifacts created: df_cleaned.pkl cosine_sim.pkl\n"
          ]
        }
      ],
      "source": [
        "import subprocess, sys, os\n",
        "\n",
        "# Clean old artifacts to avoid confusion\n",
        "for f in [DF_PATH, SIM_PATH]:\n",
        "    if os.path.exists(f):\n",
        "        os.remove(f)\n",
        "\n",
        "print(\"▶️ Running:\", PREPROCESS_SCRIPT)\n",
        "proc = subprocess.run([sys.executable, PREPROCESS_SCRIPT], capture_output=True, text=True)\n",
        "print(proc.stdout)\n",
        "if proc.returncode != 0:\n",
        "    print(proc.stderr)\n",
        "    raise RuntimeError(\"Preprocess failed. See error above.\")\n",
        "\n",
        "missing = [p for p in [DF_PATH, SIM_PATH] if not os.path.exists(p)]\n",
        "if missing:\n",
        "    raise FileNotFoundError(\"Missing expected artifact(s): \" + \", \".join(missing))\n",
        "\n",
        "print(\"✅ Recommender artifacts created:\", DF_PATH, SIM_PATH)"
      ]
    },
    {
      "cell_type": "markdown",
      "metadata": {},
      "source": [
        "## Step 3 — Create/Update playlist with **new** (not already saved) recommendations"
      ]
    },
    {
      "cell_type": "code",
      "execution_count": 14,
      "metadata": {},
      "outputs": [
        {
          "name": "stdout",
          "output_type": "stream",
          "text": [
            "▶️ Running: top_monthly_recommendation.py\n"
          ]
        },
        {
          "ename": "KeyboardInterrupt",
          "evalue": "",
          "output_type": "error",
          "traceback": [
            "\u001b[31m---------------------------------------------------------------------------\u001b[39m",
            "\u001b[31mKeyboardInterrupt\u001b[39m                         Traceback (most recent call last)",
            "\u001b[36mCell\u001b[39m\u001b[36m \u001b[39m\u001b[32mIn[14]\u001b[39m\u001b[32m, line 4\u001b[39m\n\u001b[32m      1\u001b[39m \u001b[38;5;28;01mimport\u001b[39;00m\u001b[38;5;250m \u001b[39m\u001b[34;01msubprocess\u001b[39;00m,\u001b[38;5;250m \u001b[39m\u001b[34;01msys\u001b[39;00m\n\u001b[32m      3\u001b[39m \u001b[38;5;28mprint\u001b[39m(\u001b[33m\"\u001b[39m\u001b[33m▶️ Running:\u001b[39m\u001b[33m\"\u001b[39m, RECOMMENDER_SCRIPT)\n\u001b[32m----> \u001b[39m\u001b[32m4\u001b[39m proc = \u001b[43msubprocess\u001b[49m\u001b[43m.\u001b[49m\u001b[43mrun\u001b[49m\u001b[43m(\u001b[49m\u001b[43m[\u001b[49m\u001b[43msys\u001b[49m\u001b[43m.\u001b[49m\u001b[43mexecutable\u001b[49m\u001b[43m,\u001b[49m\u001b[43m \u001b[49m\u001b[43mRECOMMENDER_SCRIPT\u001b[49m\u001b[43m]\u001b[49m\u001b[43m,\u001b[49m\u001b[43m \u001b[49m\u001b[43mcapture_output\u001b[49m\u001b[43m=\u001b[49m\u001b[38;5;28;43;01mTrue\u001b[39;49;00m\u001b[43m,\u001b[49m\u001b[43m \u001b[49m\u001b[43mtext\u001b[49m\u001b[43m=\u001b[49m\u001b[38;5;28;43;01mTrue\u001b[39;49;00m\u001b[43m)\u001b[49m\n\u001b[32m      5\u001b[39m \u001b[38;5;28mprint\u001b[39m(proc.stdout)\n\u001b[32m      6\u001b[39m \u001b[38;5;28;01mif\u001b[39;00m proc.returncode != \u001b[32m0\u001b[39m:\n",
            "\u001b[36mFile \u001b[39m\u001b[32m/opt/anaconda3/envs/spotify-recs/lib/python3.11/subprocess.py:550\u001b[39m, in \u001b[36mrun\u001b[39m\u001b[34m(input, capture_output, timeout, check, *popenargs, **kwargs)\u001b[39m\n\u001b[32m    548\u001b[39m \u001b[38;5;28;01mwith\u001b[39;00m Popen(*popenargs, **kwargs) \u001b[38;5;28;01mas\u001b[39;00m process:\n\u001b[32m    549\u001b[39m     \u001b[38;5;28;01mtry\u001b[39;00m:\n\u001b[32m--> \u001b[39m\u001b[32m550\u001b[39m         stdout, stderr = \u001b[43mprocess\u001b[49m\u001b[43m.\u001b[49m\u001b[43mcommunicate\u001b[49m\u001b[43m(\u001b[49m\u001b[38;5;28;43minput\u001b[39;49m\u001b[43m,\u001b[49m\u001b[43m \u001b[49m\u001b[43mtimeout\u001b[49m\u001b[43m=\u001b[49m\u001b[43mtimeout\u001b[49m\u001b[43m)\u001b[49m\n\u001b[32m    551\u001b[39m     \u001b[38;5;28;01mexcept\u001b[39;00m TimeoutExpired \u001b[38;5;28;01mas\u001b[39;00m exc:\n\u001b[32m    552\u001b[39m         process.kill()\n",
            "\u001b[36mFile \u001b[39m\u001b[32m/opt/anaconda3/envs/spotify-recs/lib/python3.11/subprocess.py:1209\u001b[39m, in \u001b[36mPopen.communicate\u001b[39m\u001b[34m(self, input, timeout)\u001b[39m\n\u001b[32m   1206\u001b[39m     endtime = \u001b[38;5;28;01mNone\u001b[39;00m\n\u001b[32m   1208\u001b[39m \u001b[38;5;28;01mtry\u001b[39;00m:\n\u001b[32m-> \u001b[39m\u001b[32m1209\u001b[39m     stdout, stderr = \u001b[38;5;28;43mself\u001b[39;49m\u001b[43m.\u001b[49m\u001b[43m_communicate\u001b[49m\u001b[43m(\u001b[49m\u001b[38;5;28;43minput\u001b[39;49m\u001b[43m,\u001b[49m\u001b[43m \u001b[49m\u001b[43mendtime\u001b[49m\u001b[43m,\u001b[49m\u001b[43m \u001b[49m\u001b[43mtimeout\u001b[49m\u001b[43m)\u001b[49m\n\u001b[32m   1210\u001b[39m \u001b[38;5;28;01mexcept\u001b[39;00m \u001b[38;5;167;01mKeyboardInterrupt\u001b[39;00m:\n\u001b[32m   1211\u001b[39m     \u001b[38;5;66;03m# https://bugs.python.org/issue25942\u001b[39;00m\n\u001b[32m   1212\u001b[39m     \u001b[38;5;66;03m# See the detailed comment in .wait().\u001b[39;00m\n\u001b[32m   1213\u001b[39m     \u001b[38;5;28;01mif\u001b[39;00m timeout \u001b[38;5;129;01mis\u001b[39;00m \u001b[38;5;129;01mnot\u001b[39;00m \u001b[38;5;28;01mNone\u001b[39;00m:\n",
            "\u001b[36mFile \u001b[39m\u001b[32m/opt/anaconda3/envs/spotify-recs/lib/python3.11/subprocess.py:2115\u001b[39m, in \u001b[36mPopen._communicate\u001b[39m\u001b[34m(self, input, endtime, orig_timeout)\u001b[39m\n\u001b[32m   2108\u001b[39m     \u001b[38;5;28mself\u001b[39m._check_timeout(endtime, orig_timeout,\n\u001b[32m   2109\u001b[39m                         stdout, stderr,\n\u001b[32m   2110\u001b[39m                         skip_check_and_raise=\u001b[38;5;28;01mTrue\u001b[39;00m)\n\u001b[32m   2111\u001b[39m     \u001b[38;5;28;01mraise\u001b[39;00m \u001b[38;5;167;01mRuntimeError\u001b[39;00m(  \u001b[38;5;66;03m# Impossible :)\u001b[39;00m\n\u001b[32m   2112\u001b[39m         \u001b[33m'\u001b[39m\u001b[33m_check_timeout(..., skip_check_and_raise=True) \u001b[39m\u001b[33m'\u001b[39m\n\u001b[32m   2113\u001b[39m         \u001b[33m'\u001b[39m\u001b[33mfailed to raise TimeoutExpired.\u001b[39m\u001b[33m'\u001b[39m)\n\u001b[32m-> \u001b[39m\u001b[32m2115\u001b[39m ready = \u001b[43mselector\u001b[49m\u001b[43m.\u001b[49m\u001b[43mselect\u001b[49m\u001b[43m(\u001b[49m\u001b[43mtimeout\u001b[49m\u001b[43m)\u001b[49m\n\u001b[32m   2116\u001b[39m \u001b[38;5;28mself\u001b[39m._check_timeout(endtime, orig_timeout, stdout, stderr)\n\u001b[32m   2118\u001b[39m \u001b[38;5;66;03m# XXX Rewrite these to use non-blocking I/O on the file\u001b[39;00m\n\u001b[32m   2119\u001b[39m \u001b[38;5;66;03m# objects; they are no longer using C stdio!\u001b[39;00m\n",
            "\u001b[36mFile \u001b[39m\u001b[32m/opt/anaconda3/envs/spotify-recs/lib/python3.11/selectors.py:415\u001b[39m, in \u001b[36m_PollLikeSelector.select\u001b[39m\u001b[34m(self, timeout)\u001b[39m\n\u001b[32m    413\u001b[39m ready = []\n\u001b[32m    414\u001b[39m \u001b[38;5;28;01mtry\u001b[39;00m:\n\u001b[32m--> \u001b[39m\u001b[32m415\u001b[39m     fd_event_list = \u001b[38;5;28mself\u001b[39m._selector.poll(timeout)\n\u001b[32m    416\u001b[39m \u001b[38;5;28;01mexcept\u001b[39;00m \u001b[38;5;167;01mInterruptedError\u001b[39;00m:\n\u001b[32m    417\u001b[39m     \u001b[38;5;28;01mreturn\u001b[39;00m ready\n",
            "\u001b[31mKeyboardInterrupt\u001b[39m: "
          ]
        }
      ],
      "source": [
        "import subprocess, sys\n",
        "\n",
        "print(\"▶️ Running:\", RECOMMENDER_SCRIPT)\n",
        "proc = subprocess.run([sys.executable, RECOMMENDER_SCRIPT], capture_output=True, text=True)\n",
        "print(proc.stdout)\n",
        "if proc.returncode != 0:\n",
        "    print(proc.stderr)\n",
        "    raise RuntimeError(\"Recommendation script failed. See error above.\")\n",
        "\n",
        "print(\"✅ Done. Check Spotify for your updated playlist!\")"
      ]
    },
    {
      "cell_type": "markdown",
      "metadata": {},
      "source": [
        "### 🔧 Troubleshooting\n",
        "\n",
        "- **CSV not found**: Make sure `csv_out.py` writes `top_monthly_songs.csv` into the same folder as this notebook.\n",
        "- **Authentication issues**: Ensure `.env` has `SPOTIPY_CLIENT_ID`, `SPOTIPY_CLIENT_SECRET`, `SPOTIPY_REDIRECT_URI`.\n",
        "- **Missing artifacts after preprocess**: Confirm your `preprocess.py` actually writes `df_cleaned.pkl` and `cosine_sim.pkl` (and that it's looking at `top_monthly_songs.csv`).\n",
        "- **Already-saved tracks showing up**: Verify you’re using the updated `top_monthly_recommendation.py` that filters against your Library (Liked Songs) and has `user-library-read` scope."
      ]
    }
  ],
  "metadata": {
    "kernelspec": {
      "display_name": "spotify-recs",
      "language": "python",
      "name": "python3"
    },
    "language_info": {
      "codemirror_mode": {
        "name": "ipython",
        "version": 3
      },
      "file_extension": ".py",
      "mimetype": "text/x-python",
      "name": "python",
      "nbconvert_exporter": "python",
      "pygments_lexer": "ipython3",
      "version": "3.11.11"
    }
  },
  "nbformat": 4,
  "nbformat_minor": 5
}
